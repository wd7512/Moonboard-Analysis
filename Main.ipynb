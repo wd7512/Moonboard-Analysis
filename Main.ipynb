{
 "cells": [
  {
   "cell_type": "code",
   "execution_count": 1,
   "id": "786d3f08",
   "metadata": {},
   "outputs": [
    {
     "name": "stdout",
     "output_type": "stream",
     "text": [
      "Size of Datas\n",
      "(25907, 12)\n",
      "Row labels\n",
      "Index(['Method', 'Name', 'Grade', 'MoonBoardConfigurationId', 'Setter',\n",
      "       'Rating', 'Repeats', 'Holdsetup', 'IsBenchmark', 'IsAssessmentProblem',\n",
      "       'Moves', 'DateInserted'],\n",
      "      dtype='object')\n",
      "Feet follow hands    25907\n",
      "Name: Method, dtype: int64\n",
      "0    25907\n",
      "Name: MoonBoardConfigurationId, dtype: int64\n",
      "{'Id': 1, 'Description': 'MoonBoard 2016', 'HoldLayoutId': 0}    25907\n",
      "Name: Holdsetup, dtype: int64\n"
     ]
    }
   ],
   "source": [
    "'''\n",
    "import data\n",
    "'''\n",
    "\n",
    "import pandas as pd\n",
    "\n",
    "data2016 = pd.read_json(\"raw/moonboard_problems_setup_2016.json\")\n",
    "\n",
    "data2016 = data2016.transpose()\n",
    "\n",
    "'''\n",
    "Clean data for 2016 as we have more data for it.\n",
    "We see that we have 12 rows and are only interested in grade and moves\n",
    "Note that we must check homogenity across other parameters.\n",
    "'''\n",
    "print(\"Size of Datas\")\n",
    "print(data2016.shape)\n",
    "\n",
    "\n",
    "print(\"Row labels\")\n",
    "print(data2016.columns)\n",
    "\n",
    "print(data2016['Method'].value_counts())\n",
    "print(data2016['MoonBoardConfigurationId'].value_counts())\n",
    "print(data2016['Holdsetup'].value_counts())\n",
    "\n",
    "data2016 = data2016.drop(columns=['Method', 'Name', 'MoonBoardConfigurationId', 'Setter',\n",
    "       'Rating', 'Repeats', 'Holdsetup', 'IsBenchmark', 'IsAssessmentProblem', 'DateInserted'])\n",
    "\n"
   ]
  },
  {
   "cell_type": "code",
   "execution_count": 2,
   "id": "215a11c9",
   "metadata": {},
   "outputs": [
    {
     "data": {
      "text/html": [
       "<div>\n",
       "<style scoped>\n",
       "    .dataframe tbody tr th:only-of-type {\n",
       "        vertical-align: middle;\n",
       "    }\n",
       "\n",
       "    .dataframe tbody tr th {\n",
       "        vertical-align: top;\n",
       "    }\n",
       "\n",
       "    .dataframe thead th {\n",
       "        text-align: right;\n",
       "    }\n",
       "</style>\n",
       "<table border=\"1\" class=\"dataframe\">\n",
       "  <thead>\n",
       "    <tr style=\"text-align: right;\">\n",
       "      <th></th>\n",
       "      <th>Grade</th>\n",
       "      <th>Moves</th>\n",
       "    </tr>\n",
       "  </thead>\n",
       "  <tbody>\n",
       "    <tr>\n",
       "      <th>341208</th>\n",
       "      <td>8A+</td>\n",
       "      <td>[{'Id': 1910055, 'Description': 'K18', 'IsStar...</td>\n",
       "    </tr>\n",
       "    <tr>\n",
       "      <th>341206</th>\n",
       "      <td>6B+</td>\n",
       "      <td>[{'Id': 1910040, 'Description': 'F5', 'IsStart...</td>\n",
       "    </tr>\n",
       "    <tr>\n",
       "      <th>341205</th>\n",
       "      <td>6B+</td>\n",
       "      <td>[{'Id': 1910030, 'Description': 'F5', 'IsStart...</td>\n",
       "    </tr>\n",
       "    <tr>\n",
       "      <th>341204</th>\n",
       "      <td>6B+</td>\n",
       "      <td>[{'Id': 1910021, 'Description': 'F5', 'IsStart...</td>\n",
       "    </tr>\n",
       "    <tr>\n",
       "      <th>341199</th>\n",
       "      <td>6C</td>\n",
       "      <td>[{'Id': 1909973, 'Description': 'F5', 'IsStart...</td>\n",
       "    </tr>\n",
       "    <tr>\n",
       "      <th>...</th>\n",
       "      <td>...</td>\n",
       "      <td>...</td>\n",
       "    </tr>\n",
       "    <tr>\n",
       "      <th>19219</th>\n",
       "      <td>7A</td>\n",
       "      <td>[{'Id': 1518030, 'Description': 'C5', 'IsStart...</td>\n",
       "    </tr>\n",
       "    <tr>\n",
       "      <th>19218</th>\n",
       "      <td>7A</td>\n",
       "      <td>[{'Id': 1844764, 'Description': 'B10', 'IsStar...</td>\n",
       "    </tr>\n",
       "    <tr>\n",
       "      <th>19217</th>\n",
       "      <td>6B+</td>\n",
       "      <td>[{'Id': 1518015, 'Description': 'F5', 'IsStart...</td>\n",
       "    </tr>\n",
       "    <tr>\n",
       "      <th>19216</th>\n",
       "      <td>6B+</td>\n",
       "      <td>[{'Id': 1518007, 'Description': 'F5', 'IsStart...</td>\n",
       "    </tr>\n",
       "    <tr>\n",
       "      <th>19215</th>\n",
       "      <td>6B+</td>\n",
       "      <td>[{'Id': 1518000, 'Description': 'E6', 'IsStart...</td>\n",
       "    </tr>\n",
       "  </tbody>\n",
       "</table>\n",
       "<p>25907 rows × 2 columns</p>\n",
       "</div>"
      ],
      "text/plain": [
       "       Grade                                              Moves\n",
       "341208   8A+  [{'Id': 1910055, 'Description': 'K18', 'IsStar...\n",
       "341206   6B+  [{'Id': 1910040, 'Description': 'F5', 'IsStart...\n",
       "341205   6B+  [{'Id': 1910030, 'Description': 'F5', 'IsStart...\n",
       "341204   6B+  [{'Id': 1910021, 'Description': 'F5', 'IsStart...\n",
       "341199    6C  [{'Id': 1909973, 'Description': 'F5', 'IsStart...\n",
       "...      ...                                                ...\n",
       "19219     7A  [{'Id': 1518030, 'Description': 'C5', 'IsStart...\n",
       "19218     7A  [{'Id': 1844764, 'Description': 'B10', 'IsStar...\n",
       "19217    6B+  [{'Id': 1518015, 'Description': 'F5', 'IsStart...\n",
       "19216    6B+  [{'Id': 1518007, 'Description': 'F5', 'IsStart...\n",
       "19215    6B+  [{'Id': 1518000, 'Description': 'E6', 'IsStart...\n",
       "\n",
       "[25907 rows x 2 columns]"
      ]
     },
     "execution_count": 2,
     "metadata": {},
     "output_type": "execute_result"
    }
   ],
   "source": [
    "#display of clean database\n",
    "df = data2016\n",
    "df"
   ]
  },
  {
   "cell_type": "code",
   "execution_count": 3,
   "id": "3f967113",
   "metadata": {},
   "outputs": [
    {
     "name": "stdout",
     "output_type": "stream",
     "text": [
      "8A+\n",
      "[{'Id': 1910055, 'Description': 'K18', 'IsStart': False, 'IsEnd': True}, {'Id': 1910056, 'Description': 'K16', 'IsStart': False, 'IsEnd': False}, {'Id': 1910057, 'Description': 'F15', 'IsStart': False, 'IsEnd': False}, {'Id': 1910058, 'Description': 'B11', 'IsStart': False, 'IsEnd': False}, {'Id': 1910059, 'Description': 'A5', 'IsStart': True, 'IsEnd': False}, {'Id': 1910060, 'Description': 'H15', 'IsStart': False, 'IsEnd': False}]\n"
     ]
    }
   ],
   "source": [
    "#display of an example set of moves\n",
    "print(df.iloc[0][\"Grade\"])\n",
    "print(df.iloc[0][\"Moves\"])"
   ]
  },
  {
   "cell_type": "code",
   "execution_count": 4,
   "id": "bc9ba96d",
   "metadata": {},
   "outputs": [],
   "source": [
    "#we only want to extract the description\n",
    "#such that we have a set of the holds in use\n",
    "#moonboard size is A-K along the top and 1-18 starting from the bottom up\n",
    "import numpy as np\n",
    "def get_moves(moves):\n",
    "    \"\"\"\n",
    "    Given a letter from A to K and a number from 1 to 18, return the position in the array as a tuple (row, column).\n",
    "    \"\"\"\n",
    "    \n",
    "    \n",
    "    columns = 'ABCDEFGHIJK'  # string containing the column labels\n",
    "    out = np.zeros(198,dtype=int)\n",
    "    for key in moves:\n",
    "        key = key['Description']\n",
    "        letter = key[0]\n",
    "        number = int(key[1:])\n",
    "        col_index = columns.index(letter)  # get the index of the column label\n",
    "        row_index = number - 1  # subtract 1 from the row number to get the index\n",
    "\n",
    "        index = row_index * 11 + col_index\n",
    "        \n",
    "        out[index] = 1\n",
    "        \n",
    "    return out\n",
    "\n",
    "df[\"Moves\"] = df[\"Moves\"].apply(get_moves)\n"
   ]
  },
  {
   "cell_type": "code",
   "execution_count": 7,
   "id": "bb692861",
   "metadata": {},
   "outputs": [
    {
     "data": {
      "text/plain": [
       "array([0, 0, 0, 0, 0, 0, 0, 0, 0, 0, 0, 0, 0, 0, 0, 0, 0, 0, 0, 0, 0, 0,\n",
       "       0, 0, 0, 0, 0, 0, 0, 0, 0, 0, 0, 0, 0, 0, 0, 0, 0, 0, 0, 0, 0, 0,\n",
       "       1, 0, 0, 0, 0, 0, 0, 0, 0, 0, 0, 0, 0, 0, 0, 0, 0, 0, 0, 0, 0, 0,\n",
       "       0, 0, 0, 0, 0, 0, 0, 0, 0, 0, 0, 0, 0, 0, 0, 0, 0, 0, 0, 0, 0, 0,\n",
       "       0, 0, 0, 0, 0, 0, 0, 0, 0, 0, 0, 0, 0, 0, 0, 0, 0, 0, 0, 0, 0, 0,\n",
       "       0, 1, 0, 0, 0, 0, 0, 0, 0, 0, 0, 0, 0, 0, 0, 0, 0, 0, 0, 0, 0, 0,\n",
       "       0, 0, 0, 0, 0, 0, 0, 0, 0, 0, 0, 0, 0, 0, 0, 0, 0, 0, 0, 0, 0, 0,\n",
       "       0, 0, 0, 0, 0, 1, 0, 1, 0, 0, 0, 0, 0, 0, 0, 0, 0, 0, 0, 0, 0, 1,\n",
       "       0, 0, 0, 0, 0, 0, 0, 0, 0, 0, 0, 0, 0, 0, 0, 0, 0, 0, 0, 0, 0, 1])"
      ]
     },
     "execution_count": 7,
     "metadata": {},
     "output_type": "execute_result"
    }
   ],
   "source": [
    "df.iloc[0][\"Moves\"]"
   ]
  },
  {
   "cell_type": "code",
   "execution_count": null,
   "id": "7440cb48",
   "metadata": {},
   "outputs": [],
   "source": []
  }
 ],
 "metadata": {
  "kernelspec": {
   "display_name": "Python 3 (ipykernel)",
   "language": "python",
   "name": "python3"
  },
  "language_info": {
   "codemirror_mode": {
    "name": "ipython",
    "version": 3
   },
   "file_extension": ".py",
   "mimetype": "text/x-python",
   "name": "python",
   "nbconvert_exporter": "python",
   "pygments_lexer": "ipython3",
   "version": "3.10.10"
  }
 },
 "nbformat": 4,
 "nbformat_minor": 5
}
