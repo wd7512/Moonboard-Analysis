{
 "cells": [
  {
   "cell_type": "markdown",
   "id": "f0fd126d",
   "metadata": {},
   "source": [
    "### Reversing training data to understand ML models\n",
    "\n",
    "Need a function to take a sample from Xtrain and display it in a reasonable manner.\n",
    "\n",
    "1. Add \"Null Holds\"\n",
    "2. Reshape to 22x11\n",
    "3. Reshape to 3x18x11"
   ]
  },
  {
   "cell_type": "code",
   "execution_count": null,
   "id": "40bd776b",
   "metadata": {},
   "outputs": [],
   "source": [
    "import numpy as np\n",
    "import matplotlib.pyplot as plt\n",
    "import pandas as pd\n",
    "\n",
    "\n",
    "training_data = np.load('2016TrainingData.npy',allow_pickle=True)\n",
    "data2016 = pd.read_json(\"raw/moonboard_problems_setup_2016.json\")\n",
    "\n"
   ]
  },
  {
   "cell_type": "code",
   "execution_count": null,
   "id": "2c98a904",
   "metadata": {},
   "outputs": [],
   "source": [
    "empty_holds = [\"F18\",\n",
    "              \"J18\",\n",
    "              \"A17\",\"B17\",\"C17\",\"E17\",\"F17\",\"H17\",\"I17\",\"J17\",\"K17\",\n",
    "              \"J15\",\"K15\",\n",
    "              \"B14\",\n",
    "              \"A8\",\n",
    "              \"A7\",\n",
    "              \"A6\",\"H6\",\n",
    "              \"B5\",\"E5\",\"G5\",\n",
    "              \"A4\",\"C4\",\"D4\",\"E4\",\"F4\",\"H4\",\"J4\",\"K4\",\n",
    "              \"A3\",\"C3\",\"E3\",\"F3\",\"G3\",\"H3\",\"I3\",\"J3\",\"K3\",\n",
    "              \"A2\",\"B2\",\"C2\",\"D2\",\"E2\",\"F2\",\"H2\",\"I2\",\"K2\",\n",
    "              \"A1\",\"B1\",\"C1\",\"D1\",\"E1\",\"F1\",\"G1\",\"H1\",\"I1\",\"J1\",\"K1\",]"
   ]
  }
 ],
 "metadata": {
  "kernelspec": {
   "display_name": "Python 3 (ipykernel)",
   "language": "python",
   "name": "python3"
  },
  "language_info": {
   "codemirror_mode": {
    "name": "ipython",
    "version": 3
   },
   "file_extension": ".py",
   "mimetype": "text/x-python",
   "name": "python",
   "nbconvert_exporter": "python",
   "pygments_lexer": "ipython3",
   "version": "3.10.10"
  }
 },
 "nbformat": 4,
 "nbformat_minor": 5
}
