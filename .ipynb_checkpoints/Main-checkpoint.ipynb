{
 "cells": [
  {
   "cell_type": "code",
   "execution_count": 1,
   "id": "786d3f08",
   "metadata": {},
   "outputs": [
    {
     "name": "stdout",
     "output_type": "stream",
     "text": [
      "Size of Datas\n",
      "(25907, 12)\n",
      "Row labels\n",
      "Index(['Method', 'Name', 'Grade', 'MoonBoardConfigurationId', 'Setter',\n",
      "       'Rating', 'Repeats', 'Holdsetup', 'IsBenchmark', 'IsAssessmentProblem',\n",
      "       'Moves', 'DateInserted'],\n",
      "      dtype='object')\n",
      "Feet follow hands    25907\n",
      "Name: Method, dtype: int64\n",
      "0    25907\n",
      "Name: MoonBoardConfigurationId, dtype: int64\n",
      "{'Id': 1, 'Description': 'MoonBoard 2016', 'HoldLayoutId': 0}    25907\n",
      "Name: Holdsetup, dtype: int64\n"
     ]
    }
   ],
   "source": [
    "'''\n",
    "import data\n",
    "'''\n",
    "\n",
    "import pandas as pd\n",
    "\n",
    "data2016 = pd.read_json(\"raw/moonboard_problems_setup_2016.json\")\n",
    "\n",
    "data2016 = data2016.transpose()\n",
    "\n",
    "'''\n",
    "Clean data for 2016 as we have more data for it.\n",
    "We see that we have 12 rows and are only interested in grade and moves\n",
    "Note that we must check homogenity across other parameters.\n",
    "'''\n",
    "print(\"Size of Datas\")\n",
    "print(data2016.shape)\n",
    "\n",
    "\n",
    "print(\"Row labels\")\n",
    "print(data2016.columns)\n",
    "\n",
    "print(data2016['Method'].value_counts())\n",
    "print(data2016['MoonBoardConfigurationId'].value_counts())\n",
    "print(data2016['Holdsetup'].value_counts())\n",
    "\n",
    "data2016 = data2016.drop(columns=['Method', 'Name', 'MoonBoardConfigurationId', 'Setter',\n",
    "       'Rating', 'Repeats', 'Holdsetup', 'IsBenchmark', 'IsAssessmentProblem', 'DateInserted'])\n",
    "\n"
   ]
  },
  {
   "cell_type": "code",
   "execution_count": 2,
   "id": "13a967ac",
   "metadata": {},
   "outputs": [
    {
     "data": {
      "text/html": [
       "<div>\n",
       "<style scoped>\n",
       "    .dataframe tbody tr th:only-of-type {\n",
       "        vertical-align: middle;\n",
       "    }\n",
       "\n",
       "    .dataframe tbody tr th {\n",
       "        vertical-align: top;\n",
       "    }\n",
       "\n",
       "    .dataframe thead th {\n",
       "        text-align: right;\n",
       "    }\n",
       "</style>\n",
       "<table border=\"1\" class=\"dataframe\">\n",
       "  <thead>\n",
       "    <tr style=\"text-align: right;\">\n",
       "      <th></th>\n",
       "      <th>Grade</th>\n",
       "      <th>Moves</th>\n",
       "    </tr>\n",
       "  </thead>\n",
       "  <tbody>\n",
       "    <tr>\n",
       "      <th>341208</th>\n",
       "      <td>8A+</td>\n",
       "      <td>[{'Id': 1910055, 'Description': 'K18', 'IsStar...</td>\n",
       "    </tr>\n",
       "    <tr>\n",
       "      <th>341206</th>\n",
       "      <td>6B+</td>\n",
       "      <td>[{'Id': 1910040, 'Description': 'F5', 'IsStart...</td>\n",
       "    </tr>\n",
       "    <tr>\n",
       "      <th>341205</th>\n",
       "      <td>6B+</td>\n",
       "      <td>[{'Id': 1910030, 'Description': 'F5', 'IsStart...</td>\n",
       "    </tr>\n",
       "    <tr>\n",
       "      <th>341204</th>\n",
       "      <td>6B+</td>\n",
       "      <td>[{'Id': 1910021, 'Description': 'F5', 'IsStart...</td>\n",
       "    </tr>\n",
       "    <tr>\n",
       "      <th>341199</th>\n",
       "      <td>6C</td>\n",
       "      <td>[{'Id': 1909973, 'Description': 'F5', 'IsStart...</td>\n",
       "    </tr>\n",
       "    <tr>\n",
       "      <th>...</th>\n",
       "      <td>...</td>\n",
       "      <td>...</td>\n",
       "    </tr>\n",
       "    <tr>\n",
       "      <th>19219</th>\n",
       "      <td>7A</td>\n",
       "      <td>[{'Id': 1518030, 'Description': 'C5', 'IsStart...</td>\n",
       "    </tr>\n",
       "    <tr>\n",
       "      <th>19218</th>\n",
       "      <td>7A</td>\n",
       "      <td>[{'Id': 1844764, 'Description': 'B10', 'IsStar...</td>\n",
       "    </tr>\n",
       "    <tr>\n",
       "      <th>19217</th>\n",
       "      <td>6B+</td>\n",
       "      <td>[{'Id': 1518015, 'Description': 'F5', 'IsStart...</td>\n",
       "    </tr>\n",
       "    <tr>\n",
       "      <th>19216</th>\n",
       "      <td>6B+</td>\n",
       "      <td>[{'Id': 1518007, 'Description': 'F5', 'IsStart...</td>\n",
       "    </tr>\n",
       "    <tr>\n",
       "      <th>19215</th>\n",
       "      <td>6B+</td>\n",
       "      <td>[{'Id': 1518000, 'Description': 'E6', 'IsStart...</td>\n",
       "    </tr>\n",
       "  </tbody>\n",
       "</table>\n",
       "<p>25907 rows × 2 columns</p>\n",
       "</div>"
      ],
      "text/plain": [
       "       Grade                                              Moves\n",
       "341208   8A+  [{'Id': 1910055, 'Description': 'K18', 'IsStar...\n",
       "341206   6B+  [{'Id': 1910040, 'Description': 'F5', 'IsStart...\n",
       "341205   6B+  [{'Id': 1910030, 'Description': 'F5', 'IsStart...\n",
       "341204   6B+  [{'Id': 1910021, 'Description': 'F5', 'IsStart...\n",
       "341199    6C  [{'Id': 1909973, 'Description': 'F5', 'IsStart...\n",
       "...      ...                                                ...\n",
       "19219     7A  [{'Id': 1518030, 'Description': 'C5', 'IsStart...\n",
       "19218     7A  [{'Id': 1844764, 'Description': 'B10', 'IsStar...\n",
       "19217    6B+  [{'Id': 1518015, 'Description': 'F5', 'IsStart...\n",
       "19216    6B+  [{'Id': 1518007, 'Description': 'F5', 'IsStart...\n",
       "19215    6B+  [{'Id': 1518000, 'Description': 'E6', 'IsStart...\n",
       "\n",
       "[25907 rows x 2 columns]"
      ]
     },
     "execution_count": 2,
     "metadata": {},
     "output_type": "execute_result"
    }
   ],
   "source": [
    "#display of clean database\n",
    "df = data2016\n",
    "df"
   ]
  },
  {
   "cell_type": "code",
   "execution_count": 3,
   "id": "1a9daaf6",
   "metadata": {},
   "outputs": [
    {
     "name": "stdout",
     "output_type": "stream",
     "text": [
      "8A+\n",
      "[{'Id': 1910055, 'Description': 'K18', 'IsStart': False, 'IsEnd': True}, {'Id': 1910056, 'Description': 'K16', 'IsStart': False, 'IsEnd': False}, {'Id': 1910057, 'Description': 'F15', 'IsStart': False, 'IsEnd': False}, {'Id': 1910058, 'Description': 'B11', 'IsStart': False, 'IsEnd': False}, {'Id': 1910059, 'Description': 'A5', 'IsStart': True, 'IsEnd': False}, {'Id': 1910060, 'Description': 'H15', 'IsStart': False, 'IsEnd': False}]\n"
     ]
    }
   ],
   "source": [
    "#display of an example set of moves\n",
    "print(df.iloc[0][\"Grade\"])\n",
    "print(df.iloc[0][\"Moves\"])"
   ]
  },
  {
   "cell_type": "code",
   "execution_count": 6,
   "id": "6d6467f5",
   "metadata": {},
   "outputs": [
    {
     "data": {
      "text/html": [
       "<div>\n",
       "<style scoped>\n",
       "    .dataframe tbody tr th:only-of-type {\n",
       "        vertical-align: middle;\n",
       "    }\n",
       "\n",
       "    .dataframe tbody tr th {\n",
       "        vertical-align: top;\n",
       "    }\n",
       "\n",
       "    .dataframe thead th {\n",
       "        text-align: right;\n",
       "    }\n",
       "</style>\n",
       "<table border=\"1\" class=\"dataframe\">\n",
       "  <thead>\n",
       "    <tr style=\"text-align: right;\">\n",
       "      <th></th>\n",
       "      <th>Grade</th>\n",
       "      <th>Moves</th>\n",
       "    </tr>\n",
       "  </thead>\n",
       "  <tbody>\n",
       "    <tr>\n",
       "      <th>341208</th>\n",
       "      <td>8A+</td>\n",
       "      <td>{K18, K16, A5, F15, B11, H15}</td>\n",
       "    </tr>\n",
       "    <tr>\n",
       "      <th>341206</th>\n",
       "      <td>6B+</td>\n",
       "      <td>{F5, E18, H10, E10, E15, G17, F8, G13}</td>\n",
       "    </tr>\n",
       "    <tr>\n",
       "      <th>341205</th>\n",
       "      <td>6B+</td>\n",
       "      <td>{F5, G8, I16, H10, E18, E13, E10, E15, I4, G13}</td>\n",
       "    </tr>\n",
       "    <tr>\n",
       "      <th>341204</th>\n",
       "      <td>6B+</td>\n",
       "      <td>{F5, E18, H10, E13, E10, E15, G17, F8, G13}</td>\n",
       "    </tr>\n",
       "    <tr>\n",
       "      <th>341199</th>\n",
       "      <td>6C</td>\n",
       "      <td>{G2, F5, G10, E7, A14, E18, D17, B9, D15, D12,...</td>\n",
       "    </tr>\n",
       "    <tr>\n",
       "      <th>...</th>\n",
       "      <td>...</td>\n",
       "      <td>...</td>\n",
       "    </tr>\n",
       "    <tr>\n",
       "      <th>19219</th>\n",
       "      <td>7A</td>\n",
       "      <td>{F11, F13, D7, I14, A9, D18, C5, E16}</td>\n",
       "    </tr>\n",
       "    <tr>\n",
       "      <th>19218</th>\n",
       "      <td>7A</td>\n",
       "      <td>{G4, E6, E12, J5, I18, E16, E8, B10}</td>\n",
       "    </tr>\n",
       "    <tr>\n",
       "      <th>19217</th>\n",
       "      <td>6B+</td>\n",
       "      <td>{F5, C10, J5, E15, F9, I18, G13}</td>\n",
       "    </tr>\n",
       "    <tr>\n",
       "      <th>19216</th>\n",
       "      <td>6B+</td>\n",
       "      <td>{F5, E18, E15, I11, J8, K11, G13}</td>\n",
       "    </tr>\n",
       "    <tr>\n",
       "      <th>19215</th>\n",
       "      <td>6B+</td>\n",
       "      <td>{F11, E6, D15, D18, C5, E8, C13}</td>\n",
       "    </tr>\n",
       "  </tbody>\n",
       "</table>\n",
       "<p>25907 rows × 2 columns</p>\n",
       "</div>"
      ],
      "text/plain": [
       "       Grade                                              Moves\n",
       "341208   8A+                      {K18, K16, A5, F15, B11, H15}\n",
       "341206   6B+             {F5, E18, H10, E10, E15, G17, F8, G13}\n",
       "341205   6B+    {F5, G8, I16, H10, E18, E13, E10, E15, I4, G13}\n",
       "341204   6B+        {F5, E18, H10, E13, E10, E15, G17, F8, G13}\n",
       "341199    6C  {G2, F5, G10, E7, A14, E18, D17, B9, D15, D12,...\n",
       "...      ...                                                ...\n",
       "19219     7A              {F11, F13, D7, I14, A9, D18, C5, E16}\n",
       "19218     7A               {G4, E6, E12, J5, I18, E16, E8, B10}\n",
       "19217    6B+                   {F5, C10, J5, E15, F9, I18, G13}\n",
       "19216    6B+                  {F5, E18, E15, I11, J8, K11, G13}\n",
       "19215    6B+                   {F11, E6, D15, D18, C5, E8, C13}\n",
       "\n",
       "[25907 rows x 2 columns]"
      ]
     },
     "execution_count": 6,
     "metadata": {},
     "output_type": "execute_result"
    }
   ],
   "source": [
    "#we only want to extract the description\n",
    "#such that we have a set of the holds in use\n",
    "#moonboard size is A-K along the top and 1-18 starting from the bottom up\n",
    "\n",
    "def get_moves(key):\n",
    "    \"\"\"\n",
    "    Given a letter from A to K and a number from 1 to 18, return the position in the array as a tuple (row, column).\n",
    "    \"\"\"\n",
    "    \n",
    "    letter = key[0]\n",
    "    number = int(key[1:])\n",
    "    columns = 'ABCDEFGHIJK'  # string containing the column labels\n",
    "    col_index = columns.index(letter)  # get the index of the column label\n",
    "    row_index = number - 1  # subtract 1 from the row number to get the index\n",
    "    \n",
    "    return row_index * 11 + col_index\n",
    "\n",
    "\n",
    "df[\"Moves\"] = df[\"Moves\"].apply(get_moves)\n",
    "df"
   ]
  },
  {
   "cell_type": "code",
   "execution_count": 13,
   "id": "6166f430",
   "metadata": {},
   "outputs": [],
   "source": [
    "dups = df.duplicated(subset=\"Moves\",keep=False)"
   ]
  },
  {
   "cell_type": "code",
   "execution_count": 19,
   "id": "8a49c78c",
   "metadata": {},
   "outputs": [
    {
     "ename": "AttributeError",
     "evalue": "'Series' object has no attribute 'iterrows'",
     "output_type": "error",
     "traceback": [
      "\u001b[1;31m---------------------------------------------------------------------------\u001b[0m",
      "\u001b[1;31mAttributeError\u001b[0m                            Traceback (most recent call last)",
      "Cell \u001b[1;32mIn[19], line 1\u001b[0m\n\u001b[1;32m----> 1\u001b[0m \u001b[38;5;28;01mfor\u001b[39;00m index,row \u001b[38;5;129;01min\u001b[39;00m \u001b[43mdups\u001b[49m\u001b[38;5;241;43m.\u001b[39;49m\u001b[43miterrows\u001b[49m():\n\u001b[0;32m      2\u001b[0m     \u001b[38;5;28mprint\u001b[39m(index,row)\n",
      "File \u001b[1;32m~\\AppData\\Local\\Programs\\Python\\Python310\\lib\\site-packages\\pandas\\core\\generic.py:5902\u001b[0m, in \u001b[0;36mNDFrame.__getattr__\u001b[1;34m(self, name)\u001b[0m\n\u001b[0;32m   5895\u001b[0m \u001b[38;5;28;01mif\u001b[39;00m (\n\u001b[0;32m   5896\u001b[0m     name \u001b[38;5;129;01mnot\u001b[39;00m \u001b[38;5;129;01min\u001b[39;00m \u001b[38;5;28mself\u001b[39m\u001b[38;5;241m.\u001b[39m_internal_names_set\n\u001b[0;32m   5897\u001b[0m     \u001b[38;5;129;01mand\u001b[39;00m name \u001b[38;5;129;01mnot\u001b[39;00m \u001b[38;5;129;01min\u001b[39;00m \u001b[38;5;28mself\u001b[39m\u001b[38;5;241m.\u001b[39m_metadata\n\u001b[0;32m   5898\u001b[0m     \u001b[38;5;129;01mand\u001b[39;00m name \u001b[38;5;129;01mnot\u001b[39;00m \u001b[38;5;129;01min\u001b[39;00m \u001b[38;5;28mself\u001b[39m\u001b[38;5;241m.\u001b[39m_accessors\n\u001b[0;32m   5899\u001b[0m     \u001b[38;5;129;01mand\u001b[39;00m \u001b[38;5;28mself\u001b[39m\u001b[38;5;241m.\u001b[39m_info_axis\u001b[38;5;241m.\u001b[39m_can_hold_identifiers_and_holds_name(name)\n\u001b[0;32m   5900\u001b[0m ):\n\u001b[0;32m   5901\u001b[0m     \u001b[38;5;28;01mreturn\u001b[39;00m \u001b[38;5;28mself\u001b[39m[name]\n\u001b[1;32m-> 5902\u001b[0m \u001b[38;5;28;01mreturn\u001b[39;00m \u001b[38;5;28;43mobject\u001b[39;49m\u001b[38;5;241;43m.\u001b[39;49m\u001b[38;5;21;43m__getattribute__\u001b[39;49m\u001b[43m(\u001b[49m\u001b[38;5;28;43mself\u001b[39;49m\u001b[43m,\u001b[49m\u001b[43m \u001b[49m\u001b[43mname\u001b[49m\u001b[43m)\u001b[49m\n",
      "\u001b[1;31mAttributeError\u001b[0m: 'Series' object has no attribute 'iterrows'"
     ]
    }
   ],
   "source": []
  },
  {
   "cell_type": "code",
   "execution_count": 11,
   "id": "76d071a4",
   "metadata": {},
   "outputs": [
    {
     "data": {
      "text/plain": [
       "{C14, H11, G18, D5, I6, B3, D9}                             3\n",
       "{G2, I16, F5, E18, E7, H10, E14, J5, E10, E15, G17, C13}    3\n",
       "{G9, F5, A18, D15, B11}                                     2\n",
       "{F11, F5, E14, I14, H8, E10, I18, I4}                       2\n",
       "{B4, C14, I8, H14, D3, H18, F10}                            2\n",
       "                                                           ..\n",
       "{G2, H8, D13, C10, G15, H14, B7, I18, I4, C12}              1\n",
       "{E9, G2, F13, A5, I8, F15, B7, B11, I18, C5}                1\n",
       "{G9, A18, K5, G6, C10, D15, C13}                            1\n",
       "{F5, E18, H10, F14, K5, B11}                                1\n",
       "{F11, E6, D15, D18, C5, E8, C13}                            1\n",
       "Name: Moves, Length: 25808, dtype: int64"
      ]
     },
     "execution_count": 11,
     "metadata": {},
     "output_type": "execute_result"
    }
   ],
   "source": [
    "df[\"Moves\"].value_counts()"
   ]
  },
  {
   "cell_type": "code",
   "execution_count": 21,
   "id": "641fc4d7",
   "metadata": {},
   "outputs": [
    {
     "ename": "TypeError",
     "evalue": "unhashable type: 'set'",
     "output_type": "error",
     "traceback": [
      "\u001b[1;31m---------------------------------------------------------------------------\u001b[0m",
      "\u001b[1;31mTypeError\u001b[0m                                 Traceback (most recent call last)",
      "Cell \u001b[1;32mIn[21], line 15\u001b[0m\n\u001b[0;32m     12\u001b[0m     \u001b[38;5;66;03m# Return the cleaned DataFrame\u001b[39;00m\n\u001b[0;32m     13\u001b[0m     \u001b[38;5;28;01mreturn\u001b[39;00m cleaned_df\n\u001b[1;32m---> 15\u001b[0m \u001b[43mremove_duplicates\u001b[49m\u001b[43m(\u001b[49m\u001b[43mdf\u001b[49m\u001b[43m)\u001b[49m\n",
      "Cell \u001b[1;32mIn[21], line 3\u001b[0m, in \u001b[0;36mremove_duplicates\u001b[1;34m(df, cols)\u001b[0m\n\u001b[0;32m      1\u001b[0m \u001b[38;5;28;01mdef\u001b[39;00m \u001b[38;5;21mremove_duplicates\u001b[39m(df, cols\u001b[38;5;241m=\u001b[39m\u001b[38;5;28;01mNone\u001b[39;00m):\n\u001b[0;32m      2\u001b[0m     \u001b[38;5;66;03m# Find duplicates based on specified columns or all columns\u001b[39;00m\n\u001b[1;32m----> 3\u001b[0m     duplicates \u001b[38;5;241m=\u001b[39m df[\u001b[43mdf\u001b[49m\u001b[38;5;241;43m.\u001b[39;49m\u001b[43mduplicated\u001b[49m\u001b[43m(\u001b[49m\u001b[43msubset\u001b[49m\u001b[38;5;241;43m=\u001b[39;49m\u001b[43mcols\u001b[49m\u001b[43m,\u001b[49m\u001b[43m \u001b[49m\u001b[43mkeep\u001b[49m\u001b[38;5;241;43m=\u001b[39;49m\u001b[38;5;28;43;01mFalse\u001b[39;49;00m\u001b[43m)\u001b[49m]\n\u001b[0;32m      5\u001b[0m     \u001b[38;5;66;03m# Print the duplicates\u001b[39;00m\n\u001b[0;32m      6\u001b[0m     \u001b[38;5;28mprint\u001b[39m(\u001b[38;5;124m\"\u001b[39m\u001b[38;5;124mDuplicates:\u001b[39m\u001b[38;5;124m\"\u001b[39m)\n",
      "File \u001b[1;32m~\\AppData\\Local\\Programs\\Python\\Python310\\lib\\site-packages\\pandas\\core\\frame.py:6814\u001b[0m, in \u001b[0;36mDataFrame.duplicated\u001b[1;34m(self, subset, keep)\u001b[0m\n\u001b[0;32m   6812\u001b[0m \u001b[38;5;28;01melse\u001b[39;00m:\n\u001b[0;32m   6813\u001b[0m     vals \u001b[38;5;241m=\u001b[39m (col\u001b[38;5;241m.\u001b[39mvalues \u001b[38;5;28;01mfor\u001b[39;00m name, col \u001b[38;5;129;01min\u001b[39;00m \u001b[38;5;28mself\u001b[39m\u001b[38;5;241m.\u001b[39mitems() \u001b[38;5;28;01mif\u001b[39;00m name \u001b[38;5;129;01min\u001b[39;00m subset)\n\u001b[1;32m-> 6814\u001b[0m     labels, shape \u001b[38;5;241m=\u001b[39m \u001b[38;5;28mmap\u001b[39m(\u001b[38;5;28mlist\u001b[39m, \u001b[38;5;28;43mzip\u001b[39;49m\u001b[43m(\u001b[49m\u001b[38;5;241;43m*\u001b[39;49m\u001b[38;5;28;43mmap\u001b[39;49m\u001b[43m(\u001b[49m\u001b[43mf\u001b[49m\u001b[43m,\u001b[49m\u001b[43m \u001b[49m\u001b[43mvals\u001b[49m\u001b[43m)\u001b[49m\u001b[43m)\u001b[49m)\n\u001b[0;32m   6816\u001b[0m     ids \u001b[38;5;241m=\u001b[39m get_group_index(\n\u001b[0;32m   6817\u001b[0m         labels,\n\u001b[0;32m   6818\u001b[0m         \u001b[38;5;66;03m# error: Argument 1 to \"tuple\" has incompatible type \"List[_T]\";\u001b[39;00m\n\u001b[1;32m   (...)\u001b[0m\n\u001b[0;32m   6822\u001b[0m         xnull\u001b[38;5;241m=\u001b[39m\u001b[38;5;28;01mFalse\u001b[39;00m,\n\u001b[0;32m   6823\u001b[0m     )\n\u001b[0;32m   6824\u001b[0m     result \u001b[38;5;241m=\u001b[39m \u001b[38;5;28mself\u001b[39m\u001b[38;5;241m.\u001b[39m_constructor_sliced(duplicated(ids, keep), index\u001b[38;5;241m=\u001b[39m\u001b[38;5;28mself\u001b[39m\u001b[38;5;241m.\u001b[39mindex)\n",
      "File \u001b[1;32m~\\AppData\\Local\\Programs\\Python\\Python310\\lib\\site-packages\\pandas\\core\\frame.py:6782\u001b[0m, in \u001b[0;36mDataFrame.duplicated.<locals>.f\u001b[1;34m(vals)\u001b[0m\n\u001b[0;32m   6781\u001b[0m \u001b[38;5;28;01mdef\u001b[39;00m \u001b[38;5;21mf\u001b[39m(vals) \u001b[38;5;241m-\u001b[39m\u001b[38;5;241m>\u001b[39m \u001b[38;5;28mtuple\u001b[39m[np\u001b[38;5;241m.\u001b[39mndarray, \u001b[38;5;28mint\u001b[39m]:\n\u001b[1;32m-> 6782\u001b[0m     labels, shape \u001b[38;5;241m=\u001b[39m \u001b[43malgorithms\u001b[49m\u001b[38;5;241;43m.\u001b[39;49m\u001b[43mfactorize\u001b[49m\u001b[43m(\u001b[49m\u001b[43mvals\u001b[49m\u001b[43m,\u001b[49m\u001b[43m \u001b[49m\u001b[43msize_hint\u001b[49m\u001b[38;5;241;43m=\u001b[39;49m\u001b[38;5;28;43mlen\u001b[39;49m\u001b[43m(\u001b[49m\u001b[38;5;28;43mself\u001b[39;49m\u001b[43m)\u001b[49m\u001b[43m)\u001b[49m\n\u001b[0;32m   6783\u001b[0m     \u001b[38;5;28;01mreturn\u001b[39;00m labels\u001b[38;5;241m.\u001b[39mastype(\u001b[38;5;124m\"\u001b[39m\u001b[38;5;124mi8\u001b[39m\u001b[38;5;124m\"\u001b[39m, copy\u001b[38;5;241m=\u001b[39m\u001b[38;5;28;01mFalse\u001b[39;00m), \u001b[38;5;28mlen\u001b[39m(shape)\n",
      "File \u001b[1;32m~\\AppData\\Local\\Programs\\Python\\Python310\\lib\\site-packages\\pandas\\core\\algorithms.py:822\u001b[0m, in \u001b[0;36mfactorize\u001b[1;34m(values, sort, na_sentinel, use_na_sentinel, size_hint)\u001b[0m\n\u001b[0;32m    819\u001b[0m             \u001b[38;5;66;03m# Don't modify (potentially user-provided) array\u001b[39;00m\n\u001b[0;32m    820\u001b[0m             values \u001b[38;5;241m=\u001b[39m np\u001b[38;5;241m.\u001b[39mwhere(null_mask, na_value, values)\n\u001b[1;32m--> 822\u001b[0m     codes, uniques \u001b[38;5;241m=\u001b[39m \u001b[43mfactorize_array\u001b[49m\u001b[43m(\u001b[49m\n\u001b[0;32m    823\u001b[0m \u001b[43m        \u001b[49m\u001b[43mvalues\u001b[49m\u001b[43m,\u001b[49m\n\u001b[0;32m    824\u001b[0m \u001b[43m        \u001b[49m\u001b[43mna_sentinel\u001b[49m\u001b[38;5;241;43m=\u001b[39;49m\u001b[43mna_sentinel_arg\u001b[49m\u001b[43m,\u001b[49m\n\u001b[0;32m    825\u001b[0m \u001b[43m        \u001b[49m\u001b[43msize_hint\u001b[49m\u001b[38;5;241;43m=\u001b[39;49m\u001b[43msize_hint\u001b[49m\u001b[43m,\u001b[49m\n\u001b[0;32m    826\u001b[0m \u001b[43m    \u001b[49m\u001b[43m)\u001b[49m\n\u001b[0;32m    828\u001b[0m \u001b[38;5;28;01mif\u001b[39;00m sort \u001b[38;5;129;01mand\u001b[39;00m \u001b[38;5;28mlen\u001b[39m(uniques) \u001b[38;5;241m>\u001b[39m \u001b[38;5;241m0\u001b[39m:\n\u001b[0;32m    829\u001b[0m     \u001b[38;5;28;01mif\u001b[39;00m na_sentinel \u001b[38;5;129;01mis\u001b[39;00m \u001b[38;5;28;01mNone\u001b[39;00m:\n\u001b[0;32m    830\u001b[0m         \u001b[38;5;66;03m# TODO: Can remove when na_sentinel=na_sentinel as in TODO above\u001b[39;00m\n",
      "File \u001b[1;32m~\\AppData\\Local\\Programs\\Python\\Python310\\lib\\site-packages\\pandas\\core\\algorithms.py:578\u001b[0m, in \u001b[0;36mfactorize_array\u001b[1;34m(values, na_sentinel, size_hint, na_value, mask)\u001b[0m\n\u001b[0;32m    575\u001b[0m hash_klass, values \u001b[38;5;241m=\u001b[39m _get_hashtable_algo(values)\n\u001b[0;32m    577\u001b[0m table \u001b[38;5;241m=\u001b[39m hash_klass(size_hint \u001b[38;5;129;01mor\u001b[39;00m \u001b[38;5;28mlen\u001b[39m(values))\n\u001b[1;32m--> 578\u001b[0m uniques, codes \u001b[38;5;241m=\u001b[39m \u001b[43mtable\u001b[49m\u001b[38;5;241;43m.\u001b[39;49m\u001b[43mfactorize\u001b[49m\u001b[43m(\u001b[49m\n\u001b[0;32m    579\u001b[0m \u001b[43m    \u001b[49m\u001b[43mvalues\u001b[49m\u001b[43m,\u001b[49m\n\u001b[0;32m    580\u001b[0m \u001b[43m    \u001b[49m\u001b[43mna_sentinel\u001b[49m\u001b[38;5;241;43m=\u001b[39;49m\u001b[43mna_sentinel\u001b[49m\u001b[43m,\u001b[49m\n\u001b[0;32m    581\u001b[0m \u001b[43m    \u001b[49m\u001b[43mna_value\u001b[49m\u001b[38;5;241;43m=\u001b[39;49m\u001b[43mna_value\u001b[49m\u001b[43m,\u001b[49m\n\u001b[0;32m    582\u001b[0m \u001b[43m    \u001b[49m\u001b[43mmask\u001b[49m\u001b[38;5;241;43m=\u001b[39;49m\u001b[43mmask\u001b[49m\u001b[43m,\u001b[49m\n\u001b[0;32m    583\u001b[0m \u001b[43m    \u001b[49m\u001b[43mignore_na\u001b[49m\u001b[38;5;241;43m=\u001b[39;49m\u001b[43mignore_na\u001b[49m\u001b[43m,\u001b[49m\n\u001b[0;32m    584\u001b[0m \u001b[43m\u001b[49m\u001b[43m)\u001b[49m\n\u001b[0;32m    586\u001b[0m \u001b[38;5;66;03m# re-cast e.g. i8->dt64/td64, uint8->bool\u001b[39;00m\n\u001b[0;32m    587\u001b[0m uniques \u001b[38;5;241m=\u001b[39m _reconstruct_data(uniques, original\u001b[38;5;241m.\u001b[39mdtype, original)\n",
      "File \u001b[1;32mpandas\\_libs\\hashtable_class_helper.pxi:5943\u001b[0m, in \u001b[0;36mpandas._libs.hashtable.PyObjectHashTable.factorize\u001b[1;34m()\u001b[0m\n",
      "File \u001b[1;32mpandas\\_libs\\hashtable_class_helper.pxi:5857\u001b[0m, in \u001b[0;36mpandas._libs.hashtable.PyObjectHashTable._unique\u001b[1;34m()\u001b[0m\n",
      "\u001b[1;31mTypeError\u001b[0m: unhashable type: 'set'"
     ]
    }
   ],
   "source": []
  },
  {
   "cell_type": "code",
   "execution_count": null,
   "id": "5e2541ac",
   "metadata": {},
   "outputs": [],
   "source": []
  }
 ],
 "metadata": {
  "kernelspec": {
   "display_name": "Python 3 (ipykernel)",
   "language": "python",
   "name": "python3"
  },
  "language_info": {
   "codemirror_mode": {
    "name": "ipython",
    "version": 3
   },
   "file_extension": ".py",
   "mimetype": "text/x-python",
   "name": "python",
   "nbconvert_exporter": "python",
   "pygments_lexer": "ipython3",
   "version": "3.10.10"
  }
 },
 "nbformat": 4,
 "nbformat_minor": 5
}
