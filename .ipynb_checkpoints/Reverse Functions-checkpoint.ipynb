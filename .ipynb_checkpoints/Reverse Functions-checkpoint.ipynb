{
 "cells": [
  {
   "cell_type": "markdown",
   "id": "f0fd126d",
   "metadata": {},
   "source": [
    "### Reversing training data to understand ML models\n",
    "\n",
    "Need a function to take a sample from Xtrain $x$ and display it in a reasonable manner.\n",
    "\n",
    "1. Generate empty holds  $E\\in \\mathbf{Z}^{242}$\n",
    "\n",
    "2. Iterate through $x \\in \\mathbf{Z}^{164}$ adding in $0$ if $E_i = 1$ by convering $x$ to a list then back to array. $x\\in \\mathbf{Z}^{242}$ now\n",
    "\n",
    "3. Reshape $x\\in \\mathbf{Z}^{22\\times 11}$\n",
    "\n",
    "4. Split $x$ into start middle and end arrays and reshare each one to be $\\in \\mathbf{Z}^{18\\times11}$\n",
    "\n",
    "5. Display using Matplotlib by summing all 3 arrays."
   ]
  },
  {
   "cell_type": "code",
   "execution_count": 1,
   "id": "40bd776b",
   "metadata": {},
   "outputs": [],
   "source": [
    "import numpy as np\n",
    "import matplotlib.pyplot as plt\n",
    "import pandas as pd\n",
    "\n",
    "\n",
    "training_data = np.load('2016TrainingData.npy',allow_pickle=True)\n",
    "data2016 = pd.read_json(\"raw/moonboard_problems_setup_2016.json\")\n",
    "\n",
    "data2016 = data2016.transpose()\n",
    "\n",
    "def convert_key(key):\n",
    "    '''\n",
    "    Converts desciption (e.g B10) into a row and column index\n",
    "    for a 18x11 array\n",
    "    '''\n",
    "    letter = key[0]\n",
    "    number = key[1:]\n",
    "    \n",
    "    col = ord(letter) - 65\n",
    "    row = 18-int(number)\n",
    "\n",
    "    return row,col\n",
    "\n",
    "def convert_moves(moves):\n",
    "    '''\n",
    "    Converts the list of dictionarys from the moves column into\n",
    "    3 18x11 arrays for start/middle/end holds\n",
    "    '''\n",
    "    holds = np.zeros((3,18,11),dtype=bool)\n",
    "\n",
    "    \n",
    "    for dic in moves:\n",
    "        key = dic['Description']\n",
    "        \n",
    "        row,col = convert_key(key)\n",
    "        if dic['IsStart']:\n",
    "            holds[0,row,col] = True\n",
    "        elif dic['IsEnd']:\n",
    "            holds[2,row,col] = True\n",
    "        else:\n",
    "            holds[1,row,col] = True\n",
    "            \n",
    "    return holds\n",
    "\n",
    "def plot_moves(moves):\n",
    "    \n",
    "    figure, axis = plt.subplots(1,3)\n",
    "\n",
    "    axis[0].matshow(moves[0])\n",
    "    axis[0].set_title('Start Holds')\n",
    "    axis[1].matshow(moves[1])\n",
    "    axis[1].set_title('Middle Holds')\n",
    "    axis[2].matshow(moves[2])\n",
    "    axis[2].set_title('End Holds')\n",
    "    \n",
    "    plt.show()\n",
    "    \n",
    "data2016[\"Moves\"] = data2016[\"Moves\"].apply(convert_moves)"
   ]
  },
  {
   "cell_type": "code",
   "execution_count": 2,
   "id": "108fb32a",
   "metadata": {},
   "outputs": [
    {
     "data": {
      "text/plain": [
       "Method                                                      Feet follow hands\n",
       "Name                                                         OFF THE MATTRESS\n",
       "Grade                                                                     8A+\n",
       "MoonBoardConfigurationId                                                    0\n",
       "Setter                      {'Nickname': 'bcy', 'Firstname': 'Bocheng', 'L...\n",
       "Rating                                                                      0\n",
       "Repeats                                                                     0\n",
       "Holdsetup                   {'Id': 1, 'Description': 'MoonBoard 2016', 'Ho...\n",
       "IsBenchmark                                                             False\n",
       "IsAssessmentProblem                                                     False\n",
       "Moves                       [[[False, False, False, False, False, False, F...\n",
       "DateInserted                                            /Date(1554298797933)/\n",
       "Name: 341208, dtype: object"
      ]
     },
     "execution_count": 2,
     "metadata": {},
     "output_type": "execute_result"
    }
   ],
   "source": [
    "data2016.iloc[0]"
   ]
  },
  {
   "cell_type": "code",
   "execution_count": 3,
   "id": "2c98a904",
   "metadata": {},
   "outputs": [
    {
     "data": {
      "image/png": "[encoded data removed]",
      "text/plain": [
       "<Figure size 640x480 with 3 Axes>"
      ]
     },
     "metadata": {},
     "output_type": "display_data"
    }
   ],
   "source": [
    "# Step 1\n",
    "def convert_key(key):\n",
    "    '''\n",
    "    Converts desciption (e.g B10) into a row and column index\n",
    "    for a 18x11 array\n",
    "    '''\n",
    "    letter = key[0]\n",
    "    number = key[1:]\n",
    "    \n",
    "    col = ord(letter) - 65\n",
    "    row = 18-int(number)\n",
    "\n",
    "    return row,col\n",
    "\n",
    "def condense(moves):\n",
    "    '''\n",
    "    function to remove empty rows of the dataset\n",
    "    '''\n",
    "    new_moves = np.zeros((22,11))\n",
    "    \n",
    "    new_moves[0:5,:] = moves[0][12:17,:]\n",
    "    new_moves[5:21,:] = moves[1][1:17,:]\n",
    "    new_moves[-1,:] = moves[2][0,:]\n",
    "    \n",
    "    return new_moves\n",
    "\n",
    "def uncondense(moves):\n",
    "    '''\n",
    "    function to restore condensed data into 3 arrays\n",
    "    '''\n",
    "    \n",
    "    new_moves = np.zeros((3,18,11))\n",
    "    \n",
    "    new_moves[0][12:17,:] = moves[0:5,:]\n",
    "    new_moves[1][1:17,:] = moves[5:21,:]\n",
    "    new_moves[2][0,:] = moves[-1,:]\n",
    "    \n",
    "    return new_moves\n",
    "\n",
    "empty_holds = [\"F18\",\n",
    "              \"J18\",\n",
    "              \"A17\",\"B17\",\"C17\",\"E17\",\"F17\",\"H17\",\"I17\",\"J17\",\"K17\",\n",
    "              \"J15\",\"K15\",\n",
    "              \"B14\",\n",
    "              \"A8\",\n",
    "              \"A7\",\n",
    "              \"A6\",\"H6\",\n",
    "              \"B5\",\"E5\",\"G5\",\n",
    "              \"A4\",\"C4\",\"D4\",\"E4\",\"F4\",\"H4\",\"J4\",\"K4\",\n",
    "              \"A3\",\"C3\",\"E3\",\"F3\",\"G3\",\"H3\",\"I3\",\"J3\",\"K3\",\n",
    "              \"A2\",\"B2\",\"C2\",\"D2\",\"E2\",\"F2\",\"H2\",\"I2\",\"K2\",\n",
    "              \"A1\",\"B1\",\"C1\",\"D1\",\"E1\",\"F1\",\"G1\",\"H1\",\"I1\",\"J1\",\"K1\",]\n",
    "\n",
    "null_moves = np.zeros((3,18,11)) #creates empty route to highlight null holds\n",
    "\n",
    "\n",
    "\n",
    "\n",
    "\n",
    "for hold in empty_holds:\n",
    "    row,col = convert_key(hold)\n",
    "    \n",
    "    null_moves[0][row,col] = 1\n",
    "    null_moves[1][row,col] = 1\n",
    "    null_moves[2][row,col] = 1\n",
    "    \n",
    "plot_moves(null_moves)"
   ]
  },
  {
   "cell_type": "code",
   "execution_count": 4,
   "id": "a90d8516",
   "metadata": {},
   "outputs": [],
   "source": [
    "null_moves = condense(null_moves)\n",
    "null_moves = null_moves.flatten()"
   ]
  },
  {
   "cell_type": "code",
   "execution_count": 5,
   "id": "17a9e335",
   "metadata": {},
   "outputs": [
    {
     "name": "stdout",
     "output_type": "stream",
     "text": [
      "Null holds 78.0\n",
      "Size of x (164,)\n"
     ]
    },
    {
     "data": {
      "image/png": "[encoded data removed]",
      "text/plain": [
       "<Figure size 640x480 with 3 Axes>"
      ]
     },
     "metadata": {},
     "output_type": "display_data"
    }
   ],
   "source": [
    "#Step 2 - we need to generate a test route\n",
    "\n",
    "\n",
    "x = training_data[1][1]\n",
    "print('Null holds',np.sum(null_moves))\n",
    "print('Size of x',x.shape)\n",
    "\n",
    "\n",
    "x = list(x)\n",
    "\n",
    "\n",
    "\n",
    "\n",
    "\n",
    "for i in range(null_moves.size):\n",
    "    if null_moves[i] == 1:\n",
    "        x.insert(i,0)\n",
    "        \n",
    "\n",
    "\n",
    "x = np.array(x)\n",
    "#Step 3\n",
    "x = x.reshape((22,11))\n",
    "#Step 4\n",
    "x = uncondense(x)\n",
    "#Step 5\n",
    "plot_moves(x)"
   ]
  },
  {
   "cell_type": "code",
   "execution_count": 6,
   "id": "754f7e68",
   "metadata": {},
   "outputs": [
    {
     "data": {
      "image/png": "[encoded data removed]",
      "text/plain": [
       "<Figure size 640x480 with 3 Axes>"
      ]
     },
     "metadata": {},
     "output_type": "display_data"
    }
   ],
   "source": [
    "from Reverse import reverse\n",
    "\n",
    "plot_moves(reverse(training_data[0][1]))\n",
    "\n"
   ]
  },
  {
   "cell_type": "code",
   "execution_count": null,
   "id": "5475d26f",
   "metadata": {},
   "outputs": [],
   "source": []
  }
 ],
 "metadata": {
  "kernelspec": {
   "display_name": "Python 3 (ipykernel)",
   "language": "python",
   "name": "python3"
  },
  "language_info": {
   "codemirror_mode": {
    "name": "ipython",
    "version": 3
   },
   "file_extension": ".py",
   "mimetype": "text/x-python",
   "name": "python",
   "nbconvert_exporter": "python",
   "pygments_lexer": "ipython3",
   "version": "3.10.10"
  }
 },
 "nbformat": 4,
 "nbformat_minor": 5
}
